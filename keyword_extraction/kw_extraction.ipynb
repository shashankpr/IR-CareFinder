{
 "cells": [
  {
   "cell_type": "code",
   "execution_count": 1,
   "metadata": {
    "collapsed": true
   },
   "outputs": [],
   "source": [
    "import rake\n",
    "import operator"
   ]
  },
  {
   "cell_type": "code",
   "execution_count": 2,
   "metadata": {
    "collapsed": true
   },
   "outputs": [],
   "source": [
    "sample_file = open(\"pubmedtest.txt\", 'r')"
   ]
  },
  {
   "cell_type": "code",
   "execution_count": 3,
   "metadata": {
    "collapsed": false
   },
   "outputs": [
    {
     "data": {
      "text/plain": [
       "'Abstract\\nBACKGROUND:\\nPatient-Reported Outcome (PRO) measurement is a method for measuring perceptions of patients on their health and quality of life. The aim of this paper is to present the results of PRO measurements in total hip and knee replacement as routinely collected during 20 years of surgery in a university hospital setting.\\nMETHODS:\\nData of consecutive patients between 1993 and 2014 were collected. Health outcomes were measured pre-surgery and at 3, 6, and 12 months post-surgery. Outcomes for hip replacement were measured with the Harris Hip Score (HHS) and Oxford Hip Score (OHS). Outcomes for knee replacement were measured with the Western Ontario and McMaster Universities Arthritis Index (WOMAC) and the Knee Society Score (KSS). A Visual Analog Scale (VAS) for pain was used. Absolute and relative Minimal Clinically Important Differences (MCID) were estimated. Generalized estimating equation analysis was used for estimating mean outcomes. Trends over time were analyzed.\\nRESULTS:\\nThe database contained 2,089 patients with hip replacement, and 704 patients with knee replacement. Mean HHS and OHS scores in primary hip replacement at 12 months post-surgery were 86.7 (SD: 14.5) and 41.1 (SD: 7.5) respectively. Improvements on the HHS based on absolute MCID was lower for revisions compared to primary hip replacements, with 72.4% and 87.0% respectively. Mean WOMAC and KSS scores in knee replacement at 12 months post-surgery were 21.5 (SD: 18.2) and 67.0 (SD: 26.4) respectively. Improvements based on absolute MCID were lowest for the KSS (62.6%) and highest for VAS pain (85.6%). Trend analysis showed a difference in 1 out of 24 comparisons in hip replacement and in 2 out of 9 comparisons in knee replacement.\\nCONCLUSIONS:\\nThe functional status of a large cohort of patients significantly improved after hip and knee replacement based on routine data collection. Our study shows the feasibility of the routine collection of PRO data in patients with total hip and knee replacement. The use of PRO data provides opportunities for continuous quality improvement.'"
      ]
     },
     "execution_count": 3,
     "metadata": {},
     "output_type": "execute_result"
    }
   ],
   "source": [
    "text = sample_file.read()\n",
    "text"
   ]
  },
  {
   "cell_type": "code",
   "execution_count": 34,
   "metadata": {
    "collapsed": true
   },
   "outputs": [],
   "source": [
    "rake_object = rake.Rake(\"SmartStoplist.txt\", 5, 3, 3) #Each word has at least 5 characters\n",
    "                                                      #Each phrase has at most 3 words\n",
    "                                                      #Each keyword appears in the text at least 3 times"
   ]
  },
  {
   "cell_type": "code",
   "execution_count": 35,
   "metadata": {
    "collapsed": true
   },
   "outputs": [],
   "source": [
    "keywords = rake_object.run(text)"
   ]
  },
  {
   "cell_type": "code",
   "execution_count": 36,
   "metadata": {
    "collapsed": false
   },
   "outputs": [
    {
     "name": "stdout",
     "output_type": "stream",
     "text": [
      "Keywords: [('hip replacement', 4.626262626262626), ('knee replacement', 4.431818181818182), ('12 months post', 4.0), ('outcomes', 1.25), ('surgery', 1.0)]\n"
     ]
    }
   ],
   "source": [
    "print \"Keywords:\", keywords"
   ]
  },
  {
   "cell_type": "markdown",
   "metadata": {},
   "source": [
    "## Another implementation"
   ]
  },
  {
   "cell_type": "markdown",
   "metadata": {
    "collapsed": true
   },
   "source": [
    "### 1. Topia Term Extractor\n",
    "### 2. TerMine\n",
    "### 3. PyMedTermino"
   ]
  },
  {
   "cell_type": "code",
   "execution_count": null,
   "metadata": {
    "collapsed": true
   },
   "outputs": [],
   "source": []
  }
 ],
 "metadata": {
  "kernelspec": {
   "display_name": "Python 2",
   "language": "python",
   "name": "python2"
  },
  "language_info": {
   "codemirror_mode": {
    "name": "ipython",
    "version": 2
   },
   "file_extension": ".py",
   "mimetype": "text/x-python",
   "name": "python",
   "nbconvert_exporter": "python",
   "pygments_lexer": "ipython2",
   "version": "2.7.12"
  }
 },
 "nbformat": 4,
 "nbformat_minor": 0
}
